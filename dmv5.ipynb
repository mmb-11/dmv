{
 "cells": [
  {
   "cell_type": "code",
   "execution_count": null,
   "id": "e1513610",
   "metadata": {},
   "outputs": [],
   "source": [
    "import pandas as pd\n",
    "import matplotlib.pyplot as plt\n",
    "import seaborn as sns"
   ]
  },
  {
   "cell_type": "code",
   "execution_count": null,
   "id": "c1435d6b",
   "metadata": {},
   "outputs": [],
   "source": [
    "data = pd.read_csv(\"AirQuality.csv\")\n",
    "data"
   ]
  },
  {
   "cell_type": "code",
   "execution_count": null,
   "id": "9d14f3ea",
   "metadata": {},
   "outputs": [],
   "source": [
    "data.isnull().sum()"
   ]
  },
  {
   "cell_type": "code",
   "execution_count": null,
   "id": "db13c778",
   "metadata": {},
   "outputs": [],
   "source": [
    "data.dropna(inplace=True)\n",
    "cleaned_data = data.dropna()"
   ]
  },
  {
   "cell_type": "code",
   "execution_count": null,
   "id": "c4d3c996",
   "metadata": {},
   "outputs": [],
   "source": [
    "cleaned_data"
   ]
  },
  {
   "cell_type": "code",
   "execution_count": null,
   "id": "ab3240ef",
   "metadata": {},
   "outputs": [],
   "source": [
    "cleaned_data.isnull().sum()"
   ]
  },
  {
   "cell_type": "code",
   "execution_count": null,
   "id": "de5e9f13",
   "metadata": {},
   "outputs": [],
   "source": [
    "data.info()"
   ]
  },
  {
   "cell_type": "code",
   "execution_count": null,
   "id": "1a9d2bf8",
   "metadata": {},
   "outputs": [],
   "source": [
    "# Convert the 'Date' column to a datetime format for proper time series plotting\n",
    "cleaned_data['Date'] = pd.to_datetime(cleaned_data['Date'])"
   ]
  },
  {
   "cell_type": "code",
   "execution_count": null,
   "id": "89545f70",
   "metadata": {},
   "outputs": [],
   "source": [
    "# Sort the DataFrame by the 'Date' column (optional but recommended for time series)\n",
    "cleaned_data.sort_values(by='Date', inplace=True)"
   ]
  },
  {
   "cell_type": "code",
   "execution_count": null,
   "id": "1122baf0",
   "metadata": {},
   "outputs": [],
   "source": [
    "# Create the line plot\n",
    "plt.figure(figsize=(12, 6))\n",
    "plt.plot(cleaned_data['Date'], cleaned_data['AQI'], label='AQI')\n",
    "plt.ylabel('AQI')\n",
    "plt.title('AQI Trend Over Time (Cleaned Data)')\n",
    "plt.grid(True)\n",
    "plt.show()"
   ]
  },
  {
   "cell_type": "code",
   "execution_count": null,
   "id": "193be883",
   "metadata": {},
   "outputs": [],
   "source": [
    "# Define the pollutants you want to plot\n",
    "pollutants = ['PM2.5', 'PM10', 'CO']\n",
    "\n",
    "# Create separate line plots for each pollutant\n",
    "plt.figure(figsize=(12, 8))\n",
    "\n",
    "for pollutant in pollutants:\n",
    "    plt.plot(cleaned_data['Date'], cleaned_data[pollutant], label=pollutant)\n",
    "\n",
    "plt.xlabel('Date')\n",
    "plt.ylabel('Concentration')\n",
    "plt.title('Pollutant Trends Over Time (Cleaned Data)')\n",
    "plt.grid(True)\n",
    "plt.show()"
   ]
  },
  {
   "cell_type": "code",
   "execution_count": null,
   "id": "fa0f2c98",
   "metadata": {},
   "outputs": [],
   "source": [
    "# Group the data by 'Date' and calculate the mean AQI for each date\n",
    "aqi_by_date = cleaned_data.groupby('Date')['AQI'].mean().reset_index()\n",
    "\n",
    "# Create a bar plot to compare AQI values across dates\n",
    "plt.figure(figsize=(12, 6))\n",
    "plt.bar(aqi_by_date['Date'], aqi_by_date['AQI'], color='blue', alpha=0.7)\n",
    "plt.xlabel('Date')\n",
    "plt.ylabel('Average AQI')\n",
    "plt.title('Average AQI Across Dates')\n",
    "plt.grid(True)\n",
    "plt.show()\n"
   ]
  },
  {
   "cell_type": "code",
   "execution_count": null,
   "id": "4b1edbf1",
   "metadata": {},
   "outputs": [],
   "source": [
    "# Create violin plots for the same analysis (if desired)\n",
    "plt.figure(figsize=(12, 6))\n",
    "sns.violinplot(data=cleaned_data, x='AQI', y='PM2.5', palette='Set2', color='red')\n",
    "plt.xlabel('AQI')\n",
    "plt.ylabel('PM2.5')\n",
    "plt.title('Violin Plot: Distribution of AQI for PM2.5')\n",
    "plt.tight_layout()\n",
    "plt.show()\n",
    "\n",
    "plt.figure(figsize=(12, 6))\n",
    "sns.violinplot(data=cleaned_data, x='AQI', y='PM10', palette='Set2', color='red')\n",
    "plt.xlabel('AQI')\n",
    "plt.ylabel('PM10')\n",
    "plt.title('Violin Plot: Distribution of AQI for PM10')\n",
    "plt.tight_layout()\n",
    "plt.show()\n",
    "\n",
    "plt.figure(figsize=(12, 6))\n",
    "sns.violinplot(data=cleaned_data, x='AQI', y='CO', palette='Set2', color='red')\n",
    "plt.xlabel('AQI')\n",
    "plt.ylabel('CO')\n",
    "plt.title('Violin Plot: Distribution of AQI for CO')\n",
    "plt.tight_layout()\n",
    "plt.show()"
   ]
  },
  {
   "cell_type": "code",
   "execution_count": null,
   "id": "53460fdf",
   "metadata": {},
   "outputs": [],
   "source": [
    "# Define variables for the bubble chart\n",
    "x = cleaned_data['PM2.5']\n",
    "y = cleaned_data['CO']\n",
    "bubble_size = cleaned_data['PM10']  # Represent 'PM10' using bubble size\n",
    "aqi_values = cleaned_data['AQI']\n",
    "\n",
    "# Create the bubble chart\n",
    "plt.figure(figsize=(12, 8))\n",
    "plt.scatter(x, y, s=bubble_size, c=aqi_values, cmap='coolwarm', alpha=0.7)\n",
    "plt.xlabel('PM2.5')\n",
    "plt.ylabel('CO')\n",
    "plt.title('Bubble Chart: AQI vs. PM2.5 and CO')\n",
    "plt.colorbar(label='AQI')  # Add colorbar to show AQI values\n",
    "plt.grid(True)\n",
    "plt.tight_layout()\n",
    "plt.show()"
   ]
  },
  {
   "cell_type": "code",
   "execution_count": null,
   "id": "20b56edf",
   "metadata": {},
   "outputs": [],
   "source": []
  },
  {
   "cell_type": "code",
   "execution_count": null,
   "id": "20ebef88",
   "metadata": {},
   "outputs": [],
   "source": []
  }
 ],
 "metadata": {
  "kernelspec": {
   "display_name": "Python 3 (ipykernel)",
   "language": "python",
   "name": "python3"
  },
  "language_info": {
   "codemirror_mode": {
    "name": "ipython",
    "version": 3
   },
   "file_extension": ".py",
   "mimetype": "text/x-python",
   "name": "python",
   "nbconvert_exporter": "python",
   "pygments_lexer": "ipython3",
   "version": "3.11.5"
  }
 },
 "nbformat": 4,
 "nbformat_minor": 5
}
