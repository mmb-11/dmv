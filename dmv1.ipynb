{
 "cells": [
  {
   "cell_type": "code",
   "execution_count": null,
   "id": "058bdef6",
   "metadata": {},
   "outputs": [],
   "source": [
    "import numpy as np\n",
    "import pandas as pd\n",
    "import matplotlib.pyplot as plt"
   ]
  },
  {
   "cell_type": "code",
   "execution_count": null,
   "id": "9ae31602",
   "metadata": {},
   "outputs": [],
   "source": [
    "# 1\n",
    "df = pd.read_csv(\"sample_7.csv\")\n",
    "df"
   ]
  },
  {
   "cell_type": "code",
   "execution_count": null,
   "id": "181fc853",
   "metadata": {},
   "outputs": [],
   "source": [
    "# 2\n",
    "print(\"Data Structure:\")\n",
    "df.head()"
   ]
  },
  {
   "cell_type": "code",
   "execution_count": null,
   "id": "12d97256",
   "metadata": {},
   "outputs": [],
   "source": [
    "df.shape"
   ]
  },
  {
   "cell_type": "code",
   "execution_count": null,
   "id": "a2041645",
   "metadata": {},
   "outputs": [],
   "source": [
    "df.info()"
   ]
  },
  {
   "cell_type": "code",
   "execution_count": null,
   "id": "1c5a5f59",
   "metadata": {},
   "outputs": [],
   "source": [
    "# 3\n",
    "print(\"Missing Values:\")\n",
    "df.isnull().sum()"
   ]
  },
  {
   "cell_type": "code",
   "execution_count": null,
   "id": "8d8fed94",
   "metadata": {},
   "outputs": [],
   "source": [
    "df['Sales'].fillna(0, inplace=True)\n",
    "df['Sales'] = df['Sales'].astype(int)\n",
    "df['Channel'] = df['Channel'].fillna('unknown').str.lower()"
   ]
  },
  {
   "cell_type": "code",
   "execution_count": null,
   "id": "eb015640",
   "metadata": {},
   "outputs": [],
   "source": [
    "df.isnull().sum()"
   ]
  },
  {
   "cell_type": "code",
   "execution_count": null,
   "id": "bf0ab6ca",
   "metadata": {},
   "outputs": [],
   "source": [
    "df"
   ]
  },
  {
   "cell_type": "code",
   "execution_count": null,
   "id": "9bde6f6a",
   "metadata": {},
   "outputs": [],
   "source": [
    "df['Channel'] = df['Channel'].replace(['offline', 'online'], [0, 1])\n",
    "df"
   ]
  },
  {
   "cell_type": "code",
   "execution_count": null,
   "id": "426183fe",
   "metadata": {},
   "outputs": [],
   "source": [
    "# 5\n",
    "df_file1 = pd.read_csv('file1_7.csv')\n",
    "df_file2 = pd.read_csv('file2_7.csv')\n",
    "# Split start_date column into 'Year', 'Month', and 'Day' columns for file1_7\n",
    "df_file1[['Year', 'Month', 'Day']] = df_file1['start_date'].str.split('-', expand=True)\n",
    "# Split start_date column into 'Year', 'Month', and 'Day' columns for file2_7\n",
    "df_file2[['Year', 'Month', 'Day']] = df_file2['start_date'].str.split('-', expand=True)"
   ]
  },
  {
   "cell_type": "code",
   "execution_count": null,
   "id": "dc36de6b",
   "metadata": {},
   "outputs": [],
   "source": [
    "print(\"Transformed DataFrame for sample_file_1:\")\n",
    "df_file1"
   ]
  },
  {
   "cell_type": "code",
   "execution_count": null,
   "id": "27efcc64",
   "metadata": {},
   "outputs": [],
   "source": [
    "print(\"\\nTransformed DataFrame for sample_file_2:\")\n",
    "df_file2"
   ]
  },
  {
   "cell_type": "code",
   "execution_count": null,
   "id": "0f09c94c",
   "metadata": {},
   "outputs": [],
   "source": [
    "print(\"\\nTransformed DataFrame for sample_file_2:\")\n",
    "df_file2\n",
    "\n",
    "# Read data from CSV files\n",
    "df_file1 = pd.read_csv('file1_7.csv')\n",
    "df_file2 = pd.read_csv('file2_7.csv')\n",
    "# Merge datasets based on 'id' column\n",
    "merged_df = pd.concat([df_file1, df_file2], ignore_index=True)\n",
    "# Display the merged DataFrame\n",
    "print(\"Merged DataFrame:\")\n",
    "merged_df"
   ]
  },
  {
   "cell_type": "code",
   "execution_count": null,
   "id": "194cb5e0",
   "metadata": {},
   "outputs": [],
   "source": [
    "sales_data = pd.read_csv('sample_7.csv')\n",
    "\n",
    "print(\"Descriptive Statistics:\")\n",
    "sales_data.describe()\n",
    "\n",
    "total_sales = sales_data['Sales'].sum()\n",
    "print(\"Total Sales:\", total_sales)\n",
    "\n",
    "average_order_value = sales_data['Sales'].mean()\n",
    "print(\"Average Order Value:\", average_order_value)\n",
    "\n",
    "product_category_distribution = sales_data['P Type'].value_counts(normalize=True)\n",
    "print(\"Product Category Distribution:\")\n",
    "print(product_category_distribution)\n"
   ]
  },
  {
   "cell_type": "code",
   "execution_count": null,
   "id": "c5e29f89",
   "metadata": {},
   "outputs": [],
   "source": [
    "plt.figure(figsize=(10, 6))\n",
    "product_type_sales = sales_data.groupby('P Type')['Sales'].sum()\n",
    "product_type_sales.plot(kind='bar', color='red')\n",
    "plt.title('Total Sales by Product Type')\n",
    "plt.xlabel('Product Type')\n",
    "plt.ylabel('Total Sales')\n",
    "plt.show()"
   ]
  },
  {
   "cell_type": "code",
   "execution_count": null,
   "id": "17615441",
   "metadata": {},
   "outputs": [],
   "source": [
    "plt.figure(figsize=(10, 6))\n",
    "product_category_distribution = sales_data['P Type'].value_counts()\n",
    "plt.pie(product_category_distribution, labels=product_category_distribution.index, autopct='%1.1f%%')\n",
    "plt.title('Product Category Distribution')\n",
    "plt.axis('equal')\n",
    "plt.tight_layout()\n",
    "plt.show()"
   ]
  },
  {
   "cell_type": "code",
   "execution_count": null,
   "id": "37ed9f4d",
   "metadata": {},
   "outputs": [],
   "source": []
  },
  {
   "cell_type": "code",
   "execution_count": null,
   "id": "92e70611",
   "metadata": {},
   "outputs": [],
   "source": []
  }
 ],
 "metadata": {
  "kernelspec": {
   "display_name": "Python 3 (ipykernel)",
   "language": "python",
   "name": "python3"
  },
  "language_info": {
   "codemirror_mode": {
    "name": "ipython",
    "version": 3
   },
   "file_extension": ".py",
   "mimetype": "text/x-python",
   "name": "python",
   "nbconvert_exporter": "python",
   "pygments_lexer": "ipython3",
   "version": "3.11.5"
  }
 },
 "nbformat": 4,
 "nbformat_minor": 5
}
