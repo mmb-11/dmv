{
 "cells": [
  {
   "cell_type": "code",
   "execution_count": null,
   "id": "3261b136",
   "metadata": {},
   "outputs": [],
   "source": [
    "import numpy as np\n",
    "import pandas as pd\n",
    "from sklearn.model_selection import train_test_split\n",
    "from sklearn.preprocessing import StandardScaler\n",
    "from sklearn.preprocessing import LabelEncoder"
   ]
  },
  {
   "cell_type": "code",
   "execution_count": null,
   "id": "d9506c78",
   "metadata": {},
   "outputs": [],
   "source": [
    "df = pd.read_csv('Telco-Customer-Churn.csv')\n",
    "df"
   ]
  },
  {
   "cell_type": "code",
   "execution_count": null,
   "id": "58226cd3",
   "metadata": {},
   "outputs": [],
   "source": [
    "df.info()\n",
    "df.shape\n",
    "df.describe()"
   ]
  },
  {
   "cell_type": "code",
   "execution_count": null,
   "id": "7d402d11",
   "metadata": {},
   "outputs": [],
   "source": [
    "print(\"Missing Values:\")\n",
    "df.isnull().sum()"
   ]
  },
  {
   "cell_type": "code",
   "execution_count": null,
   "id": "d62ab792",
   "metadata": {},
   "outputs": [],
   "source": [
    "df['MultipleLines'] = df['MultipleLines'].replace(' ','Not known').str.lower()\n",
    "df"
   ]
  },
  {
   "cell_type": "code",
   "execution_count": null,
   "id": "d99bb3e2",
   "metadata": {},
   "outputs": [],
   "source": [
    "df.duplicated()"
   ]
  },
  {
   "cell_type": "code",
   "execution_count": null,
   "id": "e5f5f06f",
   "metadata": {},
   "outputs": [],
   "source": [
    "df['InternetService'] = df['InternetService'].replace('Fiber opticalal', 'Fiber Optic')\n",
    "df"
   ]
  },
  {
   "cell_type": "code",
   "execution_count": null,
   "id": "933584b6",
   "metadata": {},
   "outputs": [],
   "source": [
    "df['TotalCharges'] = df['TotalCharges'].replace(' ', np.nan)\n",
    "df['TotalCharges'] = df['TotalCharges'].astype('float64')"
   ]
  },
  {
   "cell_type": "code",
   "execution_count": null,
   "id": "a2529a65",
   "metadata": {},
   "outputs": [],
   "source": [
    "df.info()"
   ]
  },
  {
   "cell_type": "code",
   "execution_count": null,
   "id": "4f27f26d",
   "metadata": {},
   "outputs": [],
   "source": [
    "# Select numerical columns for Z-Score calculation\n",
    "numerical_cols = ['tenure', 'MonthlyCharges', 'TotalCharges']\n",
    "\n",
    "# Calculate Z-Scores for selected columns\n",
    "z_scores = np.abs((df[numerical_cols] - df[numerical_cols].mean()) / df[numerical_cols].std())\n",
    "\n",
    "# Define a threshold for outlier detection (e.g., Z-Score greater than 3)\n",
    "threshold = 3\n",
    "\n",
    "# Identify and print outliers\n",
    "outliers = z_scores > threshold\n",
    "print(\"Outliers in each column:\")\n",
    "print(outliers)\n",
    "\n",
    "# Count outliers in each column\n",
    "outlier_counts = outliers.sum()\n",
    "print(\"\\nNumber of outliers in each column:\")\n",
    "outlier_counts\n"
   ]
  },
  {
   "cell_type": "code",
   "execution_count": null,
   "id": "ed90b7ff",
   "metadata": {},
   "outputs": [],
   "source": [
    "# 1. Creating 'Tenure Categories'\n",
    "df['tenure_category'] = pd.cut(df['tenure'], bins=[0, 12, 24, 48, 72, 100], labels=['0-1 Year', '1-2 Years', '2-4 Years', '4-6 Years', '6+ Years'])\n",
    "# 5. Age Group (Example: Assume 'SeniorCitizen' as a binary indicator for age)\n",
    "df['age_group'] = df['SeniorCitizen'].apply(lambda x: 'Senior' if x == 1 else 'Non-Senior')\n",
    "\n",
    "# 6.Contract Renewal\n",
    "df['contract_renewal'] = df['Contract'].apply(lambda x: 'Yes' if x in ['One year', 'Two year'] else 'No')\n",
    "\n",
    "df[['tenure',  'age_group','contract_renewal']]\n"
   ]
  },
  {
   "cell_type": "code",
   "execution_count": null,
   "id": "78c4d1a1",
   "metadata": {},
   "outputs": [],
   "source": [
    "\n",
    "numerical_features = ['tenure', 'MonthlyCharges', 'TotalCharges']\n",
    "scaler = StandardScaler()\n",
    "df[numerical_features] = scaler.fit_transform(df[numerical_features])\n",
    "df.head()\n"
   ]
  },
  {
   "cell_type": "code",
   "execution_count": null,
   "id": "e6317749",
   "metadata": {},
   "outputs": [],
   "source": [
    "X = df.drop(columns=['Churn'])\n",
    "y = df['Churn']"
   ]
  },
  {
   "cell_type": "code",
   "execution_count": null,
   "id": "9222420e",
   "metadata": {},
   "outputs": [],
   "source": [
    "# Split the dataset into training and testing sets (e.g., 70% training, 30% testing)\n",
    "X_train, X_test, y_train, y_test = train_test_split(X, y, test_size=0.3, random_state=42)\n",
    "\n",
    "# Print the shapes of the training and testing sets to verify the split\n",
    "print(\"Training set shape - X:\", X_train.shape, \"y:\", y_train.shape)\n",
    "print(\"Testing set shape - X:\", X_test.shape, \"y:\", y_test.shape)\n",
    "\n"
   ]
  },
  {
   "cell_type": "code",
   "execution_count": null,
   "id": "b0475531",
   "metadata": {},
   "outputs": [],
   "source": [
    "\n",
    "# Export the cleaned dataset to a CSV file\n",
    "df.to_csv(\"Cleaned_Telecom_Customer_Churn.csv\", index=False)\n",
    "\n",
    "print(\"Cleaned dataset has been successfully exported.\")"
   ]
  },
  {
   "cell_type": "code",
   "execution_count": null,
   "id": "0115651c",
   "metadata": {},
   "outputs": [],
   "source": []
  }
 ],
 "metadata": {
  "kernelspec": {
   "display_name": "Python 3 (ipykernel)",
   "language": "python",
   "name": "python3"
  },
  "language_info": {
   "codemirror_mode": {
    "name": "ipython",
    "version": 3
   },
   "file_extension": ".py",
   "mimetype": "text/x-python",
   "name": "python",
   "nbconvert_exporter": "python",
   "pygments_lexer": "ipython3",
   "version": "3.11.5"
  }
 },
 "nbformat": 4,
 "nbformat_minor": 5
}
