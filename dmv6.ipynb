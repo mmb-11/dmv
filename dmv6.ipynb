{
 "cells": [
  {
   "cell_type": "code",
   "execution_count": null,
   "id": "950e6eaa",
   "metadata": {},
   "outputs": [],
   "source": [
    "import numpy as np\n",
    "import pandas as pd"
   ]
  },
  {
   "cell_type": "code",
   "execution_count": null,
   "id": "cda1d0b7",
   "metadata": {},
   "outputs": [],
   "source": [
    "df = pd.read_csv(\"Retail_Sales.csv\")\n"
   ]
  },
  {
   "cell_type": "code",
   "execution_count": null,
   "id": "ecb0b3ea",
   "metadata": {},
   "outputs": [],
   "source": [
    "df"
   ]
  },
  {
   "cell_type": "code",
   "execution_count": null,
   "id": "eaff603e",
   "metadata": {},
   "outputs": [],
   "source": [
    "sales_by_region = df.groupby('Region')['Sales_Amount'].sum().reset_index()\n",
    "print(sales_by_region)"
   ]
  },
  {
   "cell_type": "code",
   "execution_count": null,
   "id": "d23a0bee",
   "metadata": {},
   "outputs": [],
   "source": [
    "import matplotlib.pyplot as plt\n",
    "plt.figure(figsize=(8, 8))\n",
    "plt.pie(sales_by_region['Sales_Amount'], labels=sales_by_region['Region'], autopct='%1.1f%%')\n",
    "plt.title('Sales Distribution by Region')\n",
    "plt.axis('equal') \n",
    "plt.show()"
   ]
  },
  {
   "cell_type": "code",
   "execution_count": null,
   "id": "1d814416",
   "metadata": {},
   "outputs": [],
   "source": [
    "top_performing_regions = sales_by_region.sort_values(by='Sales_Amount', ascending=False)\n",
    "\n",
    "# Print the top-performing regions\n",
    "print(\"Top-performing regions based on highest sales amount:\")\n",
    "top_performing_regions"
   ]
  },
  {
   "cell_type": "code",
   "execution_count": null,
   "id": "62e976e1",
   "metadata": {},
   "outputs": [],
   "source": [
    "sales_by_region_category = df.groupby(['Region', 'Product_category'])['Sales_Amount'].sum().reset_index()\n",
    "\n",
    "sales_by_region_category"
   ]
  },
  {
   "cell_type": "code",
   "execution_count": null,
   "id": "a7300958",
   "metadata": {},
   "outputs": [],
   "source": [
    "\n",
    "ax = sales_by_region_category.plot(kind='bar', stacked=True, figsize=(12, 6))\n",
    "plt.xlabel('Region')\n",
    "plt.ylabel('Total Sales')\n",
    "plt.title('Sales Comparison by Region and Product Category')\n",
    "plt.legend(title='Product Category', loc='upper right')\n",
    "plt.show()"
   ]
  },
  {
   "cell_type": "code",
   "execution_count": null,
   "id": "c998623c",
   "metadata": {},
   "outputs": [],
   "source": []
  },
  {
   "cell_type": "code",
   "execution_count": null,
   "id": "a5733f1a",
   "metadata": {},
   "outputs": [],
   "source": []
  },
  {
   "cell_type": "code",
   "execution_count": null,
   "id": "9b5e3d0f",
   "metadata": {},
   "outputs": [],
   "source": []
  },
  {
   "cell_type": "code",
   "execution_count": null,
   "id": "85217537",
   "metadata": {},
   "outputs": [],
   "source": []
  }
 ],
 "metadata": {
  "kernelspec": {
   "display_name": "Python 3 (ipykernel)",
   "language": "python",
   "name": "python3"
  },
  "language_info": {
   "codemirror_mode": {
    "name": "ipython",
    "version": 3
   },
   "file_extension": ".py",
   "mimetype": "text/x-python",
   "name": "python",
   "nbconvert_exporter": "python",
   "pygments_lexer": "ipython3",
   "version": "3.11.5"
  }
 },
 "nbformat": 4,
 "nbformat_minor": 5
}
