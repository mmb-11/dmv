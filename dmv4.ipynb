{
 "cells": [
  {
   "cell_type": "code",
   "execution_count": null,
   "id": "baf27fc5",
   "metadata": {},
   "outputs": [],
   "source": [
    "import numpy as np\n",
    "import pandas as pd"
   ]
  },
  {
   "cell_type": "code",
   "execution_count": null,
   "id": "ebcbdbb6",
   "metadata": {},
   "outputs": [],
   "source": [
    "df = pd.read_csv(\"RealEstate_Price.csv\")\n",
    "df"
   ]
  },
  {
   "cell_type": "code",
   "execution_count": null,
   "id": "02253a6e",
   "metadata": {},
   "outputs": [],
   "source": [
    "df.columns "
   ]
  },
  {
   "cell_type": "code",
   "execution_count": null,
   "id": "5227ee62",
   "metadata": {},
   "outputs": [],
   "source": [
    "df.columns = df.columns.str.strip()\n",
    "df.columns\n"
   ]
  },
  {
   "cell_type": "code",
   "execution_count": null,
   "id": "6eb4cb50",
   "metadata": {},
   "outputs": [],
   "source": [
    "df.columns = df.columns.str.replace(\" \", \"_\")\n",
    "df.columns"
   ]
  },
  {
   "cell_type": "code",
   "execution_count": null,
   "id": "4635ecfa",
   "metadata": {},
   "outputs": [],
   "source": [
    "df.isnull().sum()"
   ]
  },
  {
   "cell_type": "code",
   "execution_count": null,
   "id": "d3824c9b",
   "metadata": {},
   "outputs": [],
   "source": [
    "price_mean = df['Price'].mean()\n",
    "bedrooms_mode = df['Bedrooms'].mode()[0]"
   ]
  },
  {
   "cell_type": "code",
   "execution_count": null,
   "id": "0c673b46",
   "metadata": {},
   "outputs": [],
   "source": [
    "# Impute missing values with the mode\n",
    "df['Price'].fillna(price_mean, inplace=True)\n",
    "df['Bedrooms'].fillna(bedrooms_mode, inplace=True)\n",
    "\n",
    "df.isnull().sum()"
   ]
  },
  {
   "cell_type": "code",
   "execution_count": null,
   "id": "4606c896",
   "metadata": {},
   "outputs": [],
   "source": [
    "filtered_df = df[df['Bedrooms'] <= 2]\n",
    "filtered_df\n"
   ]
  },
  {
   "cell_type": "code",
   "execution_count": null,
   "id": "5cb9d414",
   "metadata": {},
   "outputs": [],
   "source": [
    "subset_df = df[[\"Price\", \"SqFt\", \"Offers\"]]\n",
    "subset_df\n"
   ]
  },
  {
   "cell_type": "code",
   "execution_count": null,
   "id": "6abd335c",
   "metadata": {},
   "outputs": [],
   "source": [
    "label_mapping = {\"No\": 0, \"Yes\": 1}\n",
    "df['Brick'] = df['Brick'].map(label_mapping)\n",
    "\n",
    "df['Brick']"
   ]
  },
  {
   "cell_type": "code",
   "execution_count": null,
   "id": "7520031a",
   "metadata": {},
   "outputs": [],
   "source": [
    "grouped_data = df.groupby(['Neighborhood'])['Price'].mean().reset_index()\n",
    "grouped_data"
   ]
  },
  {
   "cell_type": "code",
   "execution_count": null,
   "id": "9cb58258",
   "metadata": {},
   "outputs": [],
   "source": [
    "df.info()\n",
    "df['Price'] = df['Price'].astype(int)\n",
    "df.info()\n",
    "\n"
   ]
  },
  {
   "cell_type": "code",
   "execution_count": null,
   "id": "4c94cfa5",
   "metadata": {},
   "outputs": [],
   "source": [
    "from scipy import stats\n",
    "\n",
    "# Calculate the Z-scores for the 'fare_amount' column\n",
    "df['z_score'] = stats.zscore(df['Price'])\n",
    "\n",
    "# Define a threshold for identifying outliers (e.g., 3)\n",
    "threshold = 3\n",
    "\n",
    "# Create a boolean mask to identify outliers\n",
    "outliers_mask = (df['z_score'] > threshold) | (df['z_score'] < -threshold)\n",
    "\n",
    "# Extract the outliers\n",
    "outliers = df[outliers_mask]\n",
    "\n",
    "# Print the outliers\n",
    "outliers\n"
   ]
  },
  {
   "cell_type": "code",
   "execution_count": null,
   "id": "c51b934c",
   "metadata": {},
   "outputs": [],
   "source": [
    "df.loc[103, 'Price'] = df.loc[103, 'Price'] if df.loc[103, 'Price'] <= threshold else df['Price'].median()\n",
    "\n",
    "print(\"Result of the 'Price' column:\")\n",
    "df['Price']\n",
    "\n",
    "\n",
    "from scipy import stats\n",
    "\n",
    "# Calculate the Z-scores for the 'fare_amount' column\n",
    "df['z_score'] = stats.zscore(df['Price'])\n",
    "\n",
    "# Define a threshold for identifying outliers (e.g., 3)\n",
    "threshold = 3\n",
    "\n",
    "# Create a boolean mask to identify outliers\n",
    "outliers_mask = (df['z_score'] > threshold) | (df['z_score'] < -threshold)\n",
    "\n",
    "# Extract the outliers\n",
    "outliers = df[outliers_mask]\n",
    "\n",
    "# Print the outliers\n",
    "outliers"
   ]
  },
  {
   "cell_type": "code",
   "execution_count": null,
   "id": "4a4e2325",
   "metadata": {},
   "outputs": [],
   "source": []
  },
  {
   "cell_type": "code",
   "execution_count": null,
   "id": "09d9f034",
   "metadata": {},
   "outputs": [],
   "source": []
  }
 ],
 "metadata": {
  "kernelspec": {
   "display_name": "Python 3 (ipykernel)",
   "language": "python",
   "name": "python3"
  },
  "language_info": {
   "codemirror_mode": {
    "name": "ipython",
    "version": 3
   },
   "file_extension": ".py",
   "mimetype": "text/x-python",
   "name": "python",
   "nbconvert_exporter": "python",
   "pygments_lexer": "ipython3",
   "version": "3.11.5"
  }
 },
 "nbformat": 4,
 "nbformat_minor": 5
}
